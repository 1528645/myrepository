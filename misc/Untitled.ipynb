{
 "cells": [
  {
   "cell_type": "code",
   "execution_count": 10,
   "metadata": {},
   "outputs": [],
   "source": [
    "import numpy as np\n",
    "import os\n",
    "\n",
    "frequency_threshold = 3\n",
    "def analyse_file(path):\n",
    "    with open(path) as f:\n",
    "        content = f.readlines()\n",
    "    content = [x.strip() for x in content]\n",
    "    \n",
    "    threshold = [\"/1e-1\" for i in range(len(content))]\n",
    "    frequency = []\n",
    "    for i in range(len(content)):\n",
    "        spaces = content[i].count(' ') + 1\n",
    "        if  spaces <= 3:\n",
    "            frequency.append(\"1e-\" + str(spaces))\n",
    "        else:\n",
    "            frequency.append(\"1e-\" + str((spaces * 5)))\n",
    "    test_case = []\n",
    "    for i in range(4):\n",
    "        test_case.extend(content)\n",
    "    np.random.shuffle(test_case)\n",
    "#     print (test_case)\n",
    "#     record_audio()\n",
    "    os.system('python record_audio.py test_case_audio')\n",
    "    \n",
    "\n",
    "# def record_audio():\n",
    "    \n",
    "    \n",
    "if __name__ == '__main__':\n",
    "#     if len(argv) > 1:\n",
    "#     FILE_NAME = argv[1]\n",
    "    analyse_file(\"/home/pankaj/catkin_ws/src/pocketsphinx/demo/voice_cmd.dic\")"
   ]
  }
 ],
 "metadata": {
  "kernelspec": {
   "display_name": "Python [conda env:pankaj-python3]",
   "language": "python",
   "name": "conda-env-pankaj-python3-py"
  }
 },
 "nbformat": 4,
 "nbformat_minor": 2
}
